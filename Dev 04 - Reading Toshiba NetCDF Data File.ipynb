{
 "cells": [
  {
   "cell_type": "markdown",
   "metadata": {},
   "source": [
    "# Reading Toshiba Data"
   ]
  },
  {
   "cell_type": "code",
   "execution_count": null,
   "metadata": {
    "collapsed": true
   },
   "outputs": [],
   "source": [
    "import os\n",
    "import sys\n",
    "import glob\n",
    "import time\n",
    "import numpy as np\n",
    "import matplotlib\n",
    "import matplotlib.pyplot as plt\n",
    "\n",
    "# Local modules\n",
    "import netCDF4\n",
    "\n",
    "# iRadar\n",
    "sys.path.append(os.path.expanduser('~/Developer/iradar/python'))\n",
    "import iradar"
   ]
  },
  {
   "cell_type": "markdown",
   "metadata": {
    "collapsed": true
   },
   "source": [
    "# Get the First File"
   ]
  },
  {
   "cell_type": "code",
   "execution_count": null,
   "metadata": {
    "collapsed": true
   },
   "outputs": [],
   "source": [
    "files = glob.glob(os.path.expanduser('~/Downloads/toshiba/*.nc'))\n",
    "filename = files[0]\n",
    "\n",
    "azimuth_count = 360\n",
    "range_count = 800"
   ]
  },
  {
   "cell_type": "code",
   "execution_count": null,
   "metadata": {},
   "outputs": [],
   "source": [
    "print(filename)"
   ]
  },
  {
   "cell_type": "markdown",
   "metadata": {},
   "source": [
    "# Read the File"
   ]
  },
  {
   "cell_type": "code",
   "execution_count": null,
   "metadata": {},
   "outputs": [],
   "source": [
    "fid = netCDF4.Dataset(filename, 'r')\n",
    "\n",
    "# Attributes, dimensions, and variables\n",
    "atts = fid.ncattrs()\n",
    "ds = [d for d in fid.dimensions]\n",
    "vs = [v for v in fid.variables]\n",
    "print(vs)\n",
    "\n",
    "# Get the variables that I care about\n",
    "lat = float(fid.variables['siteLat'][0])\n",
    "lon = float(fid.variables['siteLon'][0])\n",
    "start_time = time.gmtime(int(fid.variables['esStartTime'][0]))\n",
    "\n",
    "scan_el = np.array(fid.variables['elevationAngle'][0], dtype=np.float)\n",
    "ee = np.array(fid.variables['radialElev'])\n",
    "aa = np.array(fid.variables['radialAzim'])\n",
    "zz = fid.variables['Z']\n",
    "print(zz)\n",
    "print(zz['scale_factor'])\n",
    "\n",
    "r0 = float(fid.variables['firstGateRange'][0])\n",
    "dr = float(fid.variables['gateSize'][0])\n",
    "ng = zz.shape[1]\n",
    "rr = np.arange(r0, ng * dr, dr)\n",
    "\n",
    "m = zz.mask\n",
    "print(m)\n",
    "z = np.array(zz)\n",
    "v = np.zeros(z.shape)\n",
    "z[m] = np.nan\n",
    "v[m] = np.nan\n",
    "\n",
    "if not zz.shape[0] == len(aa):\n",
    "    print('Inconsistent azimuth count!  {} / {}'.format(z.shape[0], len(aa)))\n",
    "    \n",
    "fid.close()"
   ]
  },
  {
   "cell_type": "markdown",
   "metadata": {},
   "source": [
    "# Construct a sweep dictionary"
   ]
  },
  {
   "cell_type": "code",
   "execution_count": null,
   "metadata": {},
   "outputs": [],
   "source": [
    "# o = {\n",
    "#         'longitude': longitude,\n",
    "#         'latitude': latitude,\n",
    "#         'time': sweep_time,\n",
    "#         'ee': ee,\n",
    "#         'aa': aa,\n",
    "#         'rr': rr,\n",
    "#         'z': zs,\n",
    "#         'v': vs,\n",
    "#         'm': ms\n",
    "#     }\n",
    "\n",
    "sweep = {\n",
    "    'longitude': lon,\n",
    "    'latitude': lat,\n",
    "    'time': start_time,\n",
    "    'scan_el': scan_el,\n",
    "    'ee': ee,\n",
    "    'aa': aa,\n",
    "    'rr': rr,\n",
    "    'z': z,\n",
    "    'v': v,\n",
    "    'm': m\n",
    "}\n",
    "\n",
    "print(sweep)"
   ]
  },
  {
   "cell_type": "code",
   "execution_count": null,
   "metadata": {},
   "outputs": [],
   "source": [
    "fid = netCDF4.Dataset(filename, 'r')\n",
    "\n",
    "# Attributes, dimensions, and variables\n",
    "atts = fid.ncattrs()\n",
    "ds = [d for d in fid.dimensions]\n",
    "vs = [v for v in fid.variables]\n",
    "print(vs)\n",
    "\n",
    "# Get the variables that I care about\n",
    "lat = float(fid.variables['siteLat'][0])\n",
    "lon = float(fid.variables['siteLon'][0])\n",
    "start_time = time.gmtime(int(fid.variables['esStartTime'][0]))\n",
    "\n",
    "scan_el = np.array(fid.variables['elevationAngle'][0], dtype=np.float)\n",
    "ee = np.array(fid.variables['radialElev'])\n",
    "aa = np.array(fid.variables['radialAzim'])\n",
    "zz = fid.variables['Z']"
   ]
  },
  {
   "cell_type": "code",
   "execution_count": null,
   "metadata": {},
   "outputs": [],
   "source": [
    "zz"
   ]
  },
  {
   "cell_type": "code",
   "execution_count": null,
   "metadata": {
    "collapsed": true
   },
   "outputs": [],
   "source": []
  }
 ],
 "metadata": {
  "kernelspec": {
   "display_name": "Python 3",
   "language": "python",
   "name": "python3"
  },
  "language_info": {
   "codemirror_mode": {
    "name": "ipython",
    "version": 3
   },
   "file_extension": ".py",
   "mimetype": "text/x-python",
   "name": "python",
   "nbconvert_exporter": "python",
   "pygments_lexer": "ipython3",
   "version": "3.6.5"
  }
 },
 "nbformat": 4,
 "nbformat_minor": 2
}
