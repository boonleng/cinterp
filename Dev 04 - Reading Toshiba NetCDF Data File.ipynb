{
 "cells": [
  {
   "cell_type": "markdown",
   "metadata": {},
   "source": [
    "# Reading Toshiba Data"
   ]
  },
  {
   "cell_type": "code",
   "execution_count": 24,
   "metadata": {
    "collapsed": true
   },
   "outputs": [],
   "source": [
    "import os\n",
    "import sys\n",
    "import glob\n",
    "import time\n",
    "import numpy as np\n",
    "import matplotlib\n",
    "import matplotlib.pyplot as plt\n",
    "\n",
    "# Local modules\n",
    "import netCDF4\n",
    "\n",
    "# iRadar\n",
    "sys.path.append(os.path.expanduser('~/Developer/iradar/python'))\n",
    "import iradar"
   ]
  },
  {
   "cell_type": "code",
   "execution_count": null,
   "metadata": {
    "collapsed": true
   },
   "outputs": [],
   "source": []
  },
  {
   "cell_type": "code",
   "execution_count": 3,
   "metadata": {
    "collapsed": true
   },
   "outputs": [],
   "source": [
    "files = glob.glob(os.path.expanduser('~/Downloads/toshiba/*.nc'))\n",
    "filename = files[0]\n",
    "\n",
    "azimuth_count = 360\n",
    "range_count = 800"
   ]
  },
  {
   "cell_type": "code",
   "execution_count": 5,
   "metadata": {},
   "outputs": [
    {
     "data": {
      "text/plain": [
       "'/Users/boonleng/Downloads/toshiba/20190816_115819.01-01-01-PPI0020.Ingest-ZH_MTI.AUTO-03_1.akita.dat.nc'"
      ]
     },
     "execution_count": 5,
     "metadata": {},
     "output_type": "execute_result"
    }
   ],
   "source": [
    "filename"
   ]
  },
  {
   "cell_type": "code",
   "execution_count": 7,
   "metadata": {
    "collapsed": true
   },
   "outputs": [],
   "source": [
    "fid = netCDF4.Dataset(filename, 'r')"
   ]
  },
  {
   "cell_type": "code",
   "execution_count": 9,
   "metadata": {},
   "outputs": [],
   "source": [
    "atts = fid.ncattrs()\n",
    "ds = [d for d in fid.dimensions]\n",
    "vs = [v for v in fid.variables]"
   ]
  },
  {
   "cell_type": "code",
   "execution_count": 12,
   "metadata": {},
   "outputs": [
    {
     "data": {
      "text/plain": [
       "['esStartTime',\n",
       " 'elevationNumber',\n",
       " 'elevationAngle',\n",
       " 'radialAzim',\n",
       " 'radialElev',\n",
       " 'radialTime',\n",
       " 'siteLat',\n",
       " 'siteLon',\n",
       " 'siteAlt',\n",
       " 'firstGateRange',\n",
       " 'gateSize',\n",
       " 'nyquist',\n",
       " 'unambigRange',\n",
       " 'calibConst',\n",
       " 'radarConst',\n",
       " 'beamWidthHori',\n",
       " 'pulseWidth',\n",
       " 'bandWidth',\n",
       " 'filterDop',\n",
       " 'elevationList',\n",
       " 'azimuthSpeed',\n",
       " 'highPRF',\n",
       " 'lowPRF',\n",
       " 'dwellTime',\n",
       " 'waveLength',\n",
       " 'calI0',\n",
       " 'calNoise',\n",
       " 'groundHeight',\n",
       " 'meltHeight',\n",
       " 'scanType',\n",
       " 'angleResolution',\n",
       " 'logNoise',\n",
       " 'linNoise',\n",
       " 'inphaseOffset',\n",
       " 'quadratureOffset',\n",
       " 'logSlope',\n",
       " 'logFilter',\n",
       " 'filterPntClt',\n",
       " 'filterThreshold',\n",
       " 'sampleNum',\n",
       " 'SQIThresh',\n",
       " 'LOGThresh',\n",
       " 'SIGThresh',\n",
       " 'CSRThresh',\n",
       " 'DBTThreshFlag',\n",
       " 'DBZThreshFlag',\n",
       " 'VELThreshFlag',\n",
       " 'WIDThreshFlag',\n",
       " 'beamWidthVert',\n",
       " 'Z']"
      ]
     },
     "execution_count": 12,
     "metadata": {},
     "output_type": "execute_result"
    }
   ],
   "source": [
    "vs"
   ]
  },
  {
   "cell_type": "code",
   "execution_count": 28,
   "metadata": {
    "collapsed": true
   },
   "outputs": [],
   "source": [
    "lat = float(fid.variables['siteLat'][0])\n",
    "lon = float(fid.variables['siteLon'][0])\n",
    "start_time = time.gmtime(int(fid.variables['esStartTime'][0]))\n",
    "\n",
    "r0 = float(fid.variables['firstGateRange'][0])\n",
    "\n"
   ]
  },
  {
   "cell_type": "code",
   "execution_count": 53,
   "metadata": {},
   "outputs": [],
   "source": [
    "scan_el = np.array(fid.variables['elevationAngle'][0], dtype=np.float)\n",
    "el = np.array(fid.variables['radialElev'])\n",
    "az = np.array(fid.variables['radialAzim'])"
   ]
  },
  {
   "cell_type": "code",
   "execution_count": 49,
   "metadata": {},
   "outputs": [
    {
     "data": {
      "text/plain": [
       "['bin', 'radial', 'sweep']"
      ]
     },
     "execution_count": 49,
     "metadata": {},
     "output_type": "execute_result"
    }
   ],
   "source": [
    "ds"
   ]
  },
  {
   "cell_type": "code",
   "execution_count": 50,
   "metadata": {
    "collapsed": true
   },
   "outputs": [],
   "source": [
    "z = np.array(fid.variables['Z'])"
   ]
  },
  {
   "cell_type": "code",
   "execution_count": 52,
   "metadata": {},
   "outputs": [
    {
     "data": {
      "text/plain": [
       "(522, 800)"
      ]
     },
     "execution_count": 52,
     "metadata": {},
     "output_type": "execute_result"
    }
   ],
   "source": [
    "z.shape"
   ]
  },
  {
   "cell_type": "code",
   "execution_count": 56,
   "metadata": {},
   "outputs": [
    {
     "data": {
      "text/plain": [
       "array([166, 167, 167, 168, 169, 169, 170, 171, 171, 172, 173, 174, 174,\n",
       "       175, 176, 176, 177, 178, 178, 179, 180, 181, 181, 182, 183, 183,\n",
       "       184, 185, 185, 186, 187, 188, 188, 189, 190, 190, 191, 192, 193,\n",
       "       193, 194, 195, 195, 196, 197, 197, 198, 199, 200, 200, 201, 202,\n",
       "       202, 203, 204, 204, 205, 206, 207, 207, 208, 209, 209, 210, 211,\n",
       "       211, 212, 213, 214, 214, 215, 216, 216, 217, 218, 219, 219, 220,\n",
       "       221, 221, 222, 223, 223, 224, 225, 226, 226, 227, 228, 228, 229,\n",
       "       230, 230, 231, 232, 233, 233, 234, 235, 235, 236, 237, 238, 238,\n",
       "       239, 240, 240, 241, 242, 242, 243, 244, 245, 245, 246, 247, 247,\n",
       "       248, 249, 249, 250, 251, 252, 252, 253, 254, 254, 255, 256, 256,\n",
       "       257, 258, 259, 259, 260, 261, 261, 262, 263, 264, 264, 265, 266,\n",
       "       266, 267, 268, 268, 269, 270, 271, 271, 272, 273, 273, 274, 275,\n",
       "       275, 276, 277, 278, 278, 279, 280, 280, 281, 282, 283, 283, 284,\n",
       "       285, 285, 286, 287, 287, 288, 289, 290, 290, 291, 292, 292, 293,\n",
       "       294, 294, 295, 296, 297, 297, 298, 299, 299, 300, 301, 302, 302,\n",
       "       303, 304, 304, 305, 306, 306, 307, 308, 309, 309, 310, 311, 311,\n",
       "       312, 313, 313, 314, 315, 316, 316, 317, 318, 318, 319, 320, 320,\n",
       "       321, 322, 323, 323, 324, 325, 325, 326, 327, 328, 328, 329, 330,\n",
       "       330, 331, 332, 332, 333, 334, 335, 335, 336, 337, 337, 338, 339,\n",
       "       339, 340, 341, 342, 342, 343, 344, 344, 345, 346, 347, 347, 348,\n",
       "       349, 349, 350, 351, 351, 352, 353, 354, 354, 355, 356, 356, 357,\n",
       "       358, 358, 359,   0,   1,   1,   2,   3,   3,   4,   5,   5,   6,\n",
       "         7,   8,   8,   9,  10,  10,  11,  12,  13,  13,  14,  15,  15,\n",
       "        16,  17,  17,  18,  19,  20,  20,  21,  22,  22,  23,  24,  24,\n",
       "        25,  26,  27,  27,  28,  29,  29,  30,  31,  31,  32,  33,  34,\n",
       "        34,  35,  36,  36,  37,  38,  39,  39,  40,  41,  41,  42,  43,\n",
       "        43,  44,  45,  46,  46,  47,  48,  48,  49,  50,  50,  51,  52,\n",
       "        53,  53,  54,  55,  55,  56,  57,  58,  58,  59,  60,  60,  61,\n",
       "        62,  62,  63,  64,  65,  65,  66,  67,  67,  68,  69,  69,  70,\n",
       "        71,  72,  72,  73,  74,  74,  75,  76,  77,  77,  78,  79,  79,\n",
       "        80,  81,  81,  82,  83,  84,  84,  85,  86,  86,  87,  88,  88,\n",
       "        89,  90,  91,  91,  92,  93,  93,  94,  95,  95,  96,  97,  98,\n",
       "        98,  99, 100, 100, 101, 102, 103, 103, 104, 105, 105, 106, 107,\n",
       "       107, 108, 109, 110, 110, 111, 112, 112, 113, 114, 114, 115, 116,\n",
       "       117, 117, 118, 119, 119, 120, 121, 122, 122, 123, 124, 124, 125,\n",
       "       126, 126, 127, 128, 129, 129, 130, 131, 131, 132, 133, 133, 134,\n",
       "       135, 136, 136, 137, 138, 138, 139, 140, 140, 141, 142, 143, 143,\n",
       "       144, 145, 145, 146, 147, 148, 148, 149, 150, 150, 151, 152, 152,\n",
       "       153, 154, 155, 155, 156, 157, 157, 158, 159, 159, 160, 161, 162,\n",
       "       162, 163, 164, 164, 165, 166, 166, 167, 168, 169, 169, 170, 171,\n",
       "       171, 172])"
      ]
     },
     "execution_count": 56,
     "metadata": {},
     "output_type": "execute_result"
    }
   ],
   "source": [
    "np.array(az, dtype=np.int)"
   ]
  },
  {
   "cell_type": "code",
   "execution_count": null,
   "metadata": {
    "collapsed": true
   },
   "outputs": [],
   "source": [
    "# o = {\n",
    "#         'longitude': longitude,\n",
    "#         'latitude': latitude,\n",
    "#         'time': sweep_time,\n",
    "#         'ee': ee,\n",
    "#         'aa': aa,\n",
    "#         'rr': rr,\n",
    "#         'z': zs,\n",
    "#         'v': vs,\n",
    "#         'm': ms\n",
    "#     }\n",
    "\n",
    "sweep = {\n",
    "    'longitude': lon,\n",
    "    'latitude': lat,\n",
    "    'time': start_time,\n",
    "}"
   ]
  }
 ],
 "metadata": {
  "kernelspec": {
   "display_name": "Python 3",
   "language": "python",
   "name": "python3"
  },
  "language_info": {
   "codemirror_mode": {
    "name": "ipython",
    "version": 3
   },
   "file_extension": ".py",
   "mimetype": "text/x-python",
   "name": "python",
   "nbconvert_exporter": "python",
   "pygments_lexer": "ipython3",
   "version": "3.6.5"
  }
 },
 "nbformat": 4,
 "nbformat_minor": 2
}
