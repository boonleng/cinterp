{
 "cells": [
  {
   "cell_type": "markdown",
   "metadata": {},
   "source": [
    "# NEXRAD Data Reading"
   ]
  },
  {
   "cell_type": "code",
   "execution_count": null,
   "metadata": {},
   "outputs": [],
   "source": [
    "import os\n",
    "import sys\n",
    "import glob\n",
    "import time\n",
    "import numpy as np\n",
    "import matplotlib\n",
    "import matplotlib.pyplot as plt\n",
    "\n",
    "# Local modules\n",
    "import nexrad\n",
    "\n",
    "# iRadar\n",
    "sys.path.append(os.path.expanduser('~/Developer/iradar/python'))\n",
    "import iradar"
   ]
  },
  {
   "cell_type": "code",
   "execution_count": null,
   "metadata": {},
   "outputs": [],
   "source": [
    "# %matplotlib inline"
   ]
  },
  {
   "cell_type": "code",
   "execution_count": null,
   "metadata": {},
   "outputs": [],
   "source": [
    "# filename = os.path.expanduser('~/Downloads/88d/KDDC/KDDC20200131_010529_V06')\n",
    "# filename = os.path.expanduser('~/Downloads/88d/KDDC/KDDC20200131_165722_V06')\n",
    "files = glob.glob(os.path.expanduser('~/Downloads/88d/KDDC/*V06'))\n",
    "filename = files[-1]\n",
    "\n",
    "azimuth_count = 360\n",
    "range_count = 800"
   ]
  },
  {
   "cell_type": "code",
   "execution_count": null,
   "metadata": {},
   "outputs": [],
   "source": [
    "sweeps = nexrad.read(filename)\n",
    "\n",
    "m = sweeps['m'][0, :, :range_count]\n",
    "z = sweeps['z'][0, :, :range_count]\n",
    "v = sweeps['v'][0, :, :range_count]\n",
    "\n",
    "m = np.logical_or(m, z < -5.0)\n",
    "z[m] = np.nan\n",
    "v[m] = np.nan"
   ]
  },
  {
   "cell_type": "code",
   "execution_count": null,
   "metadata": {},
   "outputs": [],
   "source": [
    "# The overlay\n",
    "overlay = iradar.atlas.Overlay((sweeps['longitude'], sweeps['latitude']))\n",
    "overlay.load()\n",
    "overlay.setRingRadii([1.0, 30.0, 60.0, 90.0])\n",
    "overlay.prepareForRect([-50.0, -50.0, 100.0, 100.0])\n",
    "\n",
    "# The chart\n",
    "view = iradar.chart.Image(None, None, None, maxrange=80.0, figsize=(600, 675), y=+5, overlay=overlay)"
   ]
  },
  {
   "cell_type": "markdown",
   "metadata": {},
   "source": [
    "# Data Viewing"
   ]
  },
  {
   "cell_type": "code",
   "execution_count": null,
   "metadata": {},
   "outputs": [],
   "source": [
    "az = sweeps['aa'][0, :]\n",
    "ee = sweeps['ee']\n",
    "rr = 1.0e-3 * sweeps['rr'][:range_count]\n",
    "view.set_data(np.zeros((azimuth_count, range_count)), a=az, r=rr, style='Z')"
   ]
  },
  {
   "cell_type": "code",
   "execution_count": null,
   "metadata": {},
   "outputs": [],
   "source": [
    "# im = []\n",
    "\n",
    "# view.set_data(z, style='Z')\n",
    "# im.append(view.pixel_buffer())\n",
    "\n",
    "# view.set_data(v, style='V')\n",
    "# im.append(view.pixel_buffer())\n",
    "\n",
    "# buff = np.array(np.hstack(im), dtype=np.uint8)\n",
    "# mosaic = iradar.chart.PIL.Image.fromarray(buff)\n",
    "\n",
    "# display(mosaic)"
   ]
  },
  {
   "cell_type": "code",
   "execution_count": null,
   "metadata": {},
   "outputs": [],
   "source": [
    "# mosaic.save(os.path.expanduser('~/Downloads/88d/cache/{}.png'.format(os.path.basename(filename))))"
   ]
  },
  {
   "cell_type": "code",
   "execution_count": null,
   "metadata": {},
   "outputs": [],
   "source": [
    "files = sorted(glob.glob(os.path.expanduser('~/Downloads/88d/KDDC/*V06')))\n",
    "filename = files[-3]\n",
    "\n",
    "sweeps = nexrad.read(filename)\n",
    "\n",
    "m = sweeps['m'][0, :, :range_count]\n",
    "z = sweeps['z'][0, :, :range_count]\n",
    "v = sweeps['v'][0, :, :range_count]\n",
    "\n",
    "m = np.logical_or(m, z < -5.0)\n",
    "z[m] = np.nan\n",
    "\n",
    "az = sweeps['aa'][0, :]\n",
    "ee = sweeps['ee']\n",
    "rr = 1.0e-3 * sweeps['rr'][:range_count]\n",
    "\n",
    "title = '{}   E {:.2f}°'.format(time.strftime('%Y/%m/%d %H:%M UTC', sweeps['time']), ee[0])\n",
    "\n",
    "ar = view._figsize[0] / view._figsize[1]\n",
    "xlim = (-45, -15)\n",
    "ylim = (-30 / ar, 0)\n",
    "view.dat.set_xlim(xlim)\n",
    "view.dat.set_ylim(ylim)\n",
    "view.map.set_xlim(xlim)\n",
    "view.map.set_ylim(ylim)\n",
    "view.fig_map.canvas.draw()\n",
    "\n",
    "view.set_data(z, a=az, r=rr, style='Z', title=title)\n",
    "\n",
    "display(view.image())"
   ]
  },
  {
   "cell_type": "code",
   "execution_count": null,
   "metadata": {},
   "outputs": [],
   "source": [
    "for filename in files:\n",
    "    sweeps = nexrad.read(filename)\n",
    "\n",
    "    m = sweeps['m'][0, :, :range_count]\n",
    "    z = sweeps['z'][0, :, :range_count]\n",
    "    v = sweeps['v'][0, :, :range_count]\n",
    "\n",
    "    m = np.logical_or(m, z < -10.0)\n",
    "    z[m] = np.nan\n",
    "\n",
    "    az = sweeps['aa'][0, :]\n",
    "    ee = sweeps['ee']\n",
    "    rr = 1.0e-3 * sweeps['rr'][:range_count]\n",
    "    title = '{}   E {:.2f}°'.format(time.strftime('%Y/%m/%d %H:%M UTC', sweeps['time']), ee[0])\n",
    "    \n",
    "    view.set_data(z, a=az, r=rr, style='Z', title=title)\n",
    "    view.savefig('{}.png'.format(filename))"
   ]
  },
  {
   "cell_type": "code",
   "execution_count": null,
   "metadata": {},
   "outputs": [],
   "source": [
    "view._figsize[0] / view._figsize[1]"
   ]
  },
  {
   "cell_type": "code",
   "execution_count": null,
   "metadata": {},
   "outputs": [],
   "source": []
  }
 ],
 "metadata": {
  "kernelspec": {
   "display_name": "Python 3",
   "language": "python",
   "name": "python3"
  },
  "language_info": {
   "codemirror_mode": {
    "name": "ipython",
    "version": 3
   },
   "file_extension": ".py",
   "mimetype": "text/x-python",
   "name": "python",
   "nbconvert_exporter": "python",
   "pygments_lexer": "ipython3",
   "version": "3.7.4"
  }
 },
 "nbformat": 4,
 "nbformat_minor": 2
}
