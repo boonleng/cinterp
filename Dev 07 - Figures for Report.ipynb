{
 "cells": [
  {
   "cell_type": "markdown",
   "metadata": {},
   "source": [
    "# Figures for Report"
   ]
  },
  {
   "cell_type": "code",
   "execution_count": null,
   "metadata": {
    "collapsed": true
   },
   "outputs": [],
   "source": [
    "%matplotlib inline\n",
    "\n",
    "import os\n",
    "import sys\n",
    "import glob\n",
    "import time\n",
    "import numpy as np\n",
    "import matplotlib\n",
    "import matplotlib.pyplot as plt\n",
    "\n",
    "# Local modules\n",
    "import toshiba\n",
    "import cinterp"
   ]
  },
  {
   "cell_type": "code",
   "execution_count": null,
   "metadata": {
    "collapsed": true
   },
   "outputs": [],
   "source": [
    "files = glob.glob(os.path.expanduser('~/Downloads/toshiba/*.nc'))\n",
    "filename = files[0]\n",
    "range_count = 200"
   ]
  },
  {
   "cell_type": "code",
   "execution_count": null,
   "metadata": {
    "collapsed": true
   },
   "outputs": [],
   "source": [
    "sweep = toshiba.read(filename, maxgate=range_count)"
   ]
  },
  {
   "cell_type": "code",
   "execution_count": null,
   "metadata": {
    "collapsed": true
   },
   "outputs": [],
   "source": [
    "# Get the reflectivity and raw range and azimuth angles\n",
    "z = sweep['z']\n",
    "a = sweep['aa']\n",
    "r = 1.0e-3 * sweep['rr']\n",
    "\n",
    "# Only retain the 360-deg coverage, take out the extra piece\n",
    "k = next(k for k, ia in enumerate(a[::-1]) if abs(ia > a[0]) < 0.5) \n",
    "a = a[:-k] / 180.0 * np.pi\n",
    "z = sweep['z'][:-k, :]\n",
    "\n",
    "rr, aa = np.meshgrid(r, a)\n",
    "xx = rr * np.sin(aa)\n",
    "yy = rr * np.cos(aa)"
   ]
  },
  {
   "cell_type": "code",
   "execution_count": null,
   "metadata": {
    "collapsed": true
   },
   "outputs": [],
   "source": [
    "turbines = cinterp.data.toshiba_cells\n",
    "\n",
    "a_turb = turbines[:, 0] / 180.0 * np.pi\n",
    "r_turb = turbines[:, 1]\n",
    "x_turb = r_turb * np.sin(a_turb)\n",
    "y_turb = r_turb * np.cos(a_turb)\n",
    "\n",
    "cells = cinterp.pos2cellid(turbines, a / np.pi * 180.0, r)\n",
    "\n",
    "z_interp = z.copy()\n",
    "\n",
    "m = np.zeros(z_interp.shape, dtype=bool)\n",
    "for c in cells:\n",
    "    m[c[0], c[1]] = True\n",
    "m1 = cinterp.dilate(m)\n",
    "m2 = cinterp.dilate(m1)\n",
    "\n",
    "tags = cinterp.mask2tags(m1)\n",
    "\n",
    "# Take out the dilated portion\n",
    "tags[m1 ^ m] = 0"
   ]
  },
  {
   "cell_type": "code",
   "execution_count": null,
   "metadata": {
    "collapsed": true
   },
   "outputs": [],
   "source": [
    "tmp = cinterp.colormap.zmap()\n",
    "zmap = matplotlib.colors.LinearSegmentedColormap.from_list('colors', tmp[:, :3], N=len(tmp))\n",
    "\n",
    "tmp = np.array([\n",
    "    [0.00, 0.75, 1.00], # blue\n",
    "    [0.00, 0.30, 1.00],\n",
    "    [0.75, 1.00, 0.00], # green\n",
    "    [0.30, 0.80, 0.00],\n",
    "    [1.00, 0.60, 0.00], # orange\n",
    "    [1.00, 0.30, 0.00],\n",
    "    [1.00, 0.35, 0.80], # pink\n",
    "    [0.70, 0.15, 0.80],\n",
    "    [0.70, 0.70, 0.70], # gray\n",
    "    [0.50, 0.50, 0.50],\n",
    "    [1.00, 0.15, 0.00], # red\n",
    "    [0.75, 0.10, 0.00],\n",
    "    [0.95, 0.70, 0.35], # brown\n",
    "    [0.75, 0.55, 0.25],\n",
    "])\n",
    "imap = matplotlib.colors.LinearSegmentedColormap.from_list('colors', tmp[:, :3], N=len(tmp))"
   ]
  },
  {
   "cell_type": "code",
   "execution_count": null,
   "metadata": {
    "scrolled": false
   },
   "outputs": [],
   "source": [
    "tt = np.unique(tags)\n",
    "tt = tt[tt > 0]\n",
    "ntags = np.zeros(tags.shape, dtype=np.float)\n",
    "\n",
    "for t in tt:\n",
    "    sub_mask = tags == t\n",
    "    sub_mask_dilated = np.logical_xor(cinterp.dilate(sub_mask), sub_mask)\n",
    "    f = (t + 0.5) * np.array(sub_mask_dilated, dtype=np.float)\n",
    "    f += t * np.array(sub_mask, dtype=np.float)\n",
    "    ntags += f"
   ]
  },
  {
   "cell_type": "code",
   "execution_count": null,
   "metadata": {},
   "outputs": [],
   "source": [
    "t = ntags.copy()\n",
    "t[t < 1.0] = np.nan\n",
    "\n",
    "plt.figure(figsize=(5.25, 4), dpi=200)\n",
    "plt.pcolormesh(xx, yy, t, cmap=imap)\n",
    "plt.xlim((-1, 6))\n",
    "plt.ylim((-12.5, -5.5))\n",
    "plt.clim((0.75, 7.75))\n",
    "# plt.clim((-0.25, 6.75))\n",
    "plt.colorbar()\n",
    "plt.grid()"
   ]
  },
  {
   "cell_type": "code",
   "execution_count": null,
   "metadata": {
    "collapsed": true
   },
   "outputs": [],
   "source": [
    "z_interp = cinterp.cinterp_tags(z, a, r, tags)"
   ]
  },
  {
   "cell_type": "code",
   "execution_count": null,
   "metadata": {
    "scrolled": false
   },
   "outputs": [],
   "source": [
    "plt.figure(figsize=(5.25, 4), dpi=200)\n",
    "plt.pcolormesh(xx, yy, z, cmap=zmap)\n",
    "plt.clim((-32, 96))\n",
    "plt.xlim((-1, 6))\n",
    "plt.ylim((-12.5, -5.5))\n",
    "plt.colorbar()\n",
    "plt.grid()\n",
    "\n",
    "plt.figure(figsize=(5.25, 4), dpi=200)\n",
    "plt.pcolormesh(xx, yy, z_interp, cmap=zmap)\n",
    "plt.clim((-32, 96))\n",
    "plt.xlim((-1, 6))\n",
    "plt.ylim((-12.5, -5.5))\n",
    "plt.colorbar()\n",
    "plt.grid()"
   ]
  },
  {
   "cell_type": "code",
   "execution_count": null,
   "metadata": {
    "collapsed": true
   },
   "outputs": [],
   "source": []
  }
 ],
 "metadata": {
  "kernelspec": {
   "display_name": "Python 3",
   "language": "python",
   "name": "python3"
  },
  "language_info": {
   "codemirror_mode": {
    "name": "ipython",
    "version": 3
   },
   "file_extension": ".py",
   "mimetype": "text/x-python",
   "name": "python",
   "nbconvert_exporter": "python",
   "pygments_lexer": "ipython3",
   "version": "3.6.5"
  }
 },
 "nbformat": 4,
 "nbformat_minor": 2
}
