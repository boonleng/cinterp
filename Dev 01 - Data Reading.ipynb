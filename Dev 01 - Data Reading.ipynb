{
 "cells": [
  {
   "cell_type": "markdown",
   "metadata": {},
   "source": [
    "# Data Reading"
   ]
  },
  {
   "cell_type": "code",
   "execution_count": null,
   "metadata": {
    "collapsed": true
   },
   "outputs": [],
   "source": [
    "import os\n",
    "import sys\n",
    "import glob\n",
    "import numpy as np\n",
    "import matplotlib\n",
    "import matplotlib.pyplot as plt\n",
    "\n",
    "# Local modules\n",
    "import nexrad\n",
    "\n",
    "# iRadar\n",
    "sys.path.append(os.path.expanduser('~/Developer/iradar/python'))\n",
    "import iradar"
   ]
  },
  {
   "cell_type": "code",
   "execution_count": null,
   "metadata": {
    "collapsed": true
   },
   "outputs": [],
   "source": [
    "plt.rcParams['axes.facecolor'] = 'black'"
   ]
  },
  {
   "cell_type": "code",
   "execution_count": null,
   "metadata": {
    "collapsed": true
   },
   "outputs": [],
   "source": []
  },
  {
   "cell_type": "code",
   "execution_count": null,
   "metadata": {
    "collapsed": true
   },
   "outputs": [],
   "source": [
    "files = glob.glob(os.path.expanduser('~/Downloads/88d/KDDC/*V06'))"
   ]
  },
  {
   "cell_type": "code",
   "execution_count": null,
   "metadata": {
    "collapsed": true
   },
   "outputs": [],
   "source": [
    "# filename = os.path.expanduser('~/Downloads/88d/KDDC/KDDC20200131_010529_V06')\n",
    "# filename = os.path.expanduser('~/Downloads/88d/KDDC/KDDC20200131_165722_V06')\n",
    "filename = files[0]\n",
    "\n",
    "azimuth_count = 360\n",
    "range_count = 800"
   ]
  },
  {
   "cell_type": "code",
   "execution_count": null,
   "metadata": {
    "collapsed": true
   },
   "outputs": [],
   "source": [
    "sweeps = nexrad.read(filename)\n",
    "\n",
    "m = sweeps['m'][0, :, :range_count]\n",
    "z = sweeps['z'][0, :, :range_count]\n",
    "v = sweeps['v'][0, :, :range_count]\n",
    "\n",
    "m = np.logical_or(m, z < -5.0)\n",
    "z[m] = np.nan\n",
    "v[m] = np.nan"
   ]
  },
  {
   "cell_type": "code",
   "execution_count": null,
   "metadata": {
    "collapsed": true
   },
   "outputs": [],
   "source": [
    "# The overlay\n",
    "overlay = iradar.atlas.Overlay((sweeps['longitude'], sweeps['latitude']))\n",
    "overlay.load()\n",
    "overlay.setRingRadii([1.0, 30.0, 60.0, 90.0])\n",
    "overlay.prepareForRect([-50.0, -50.0, 100.0, 100.0])\n",
    "\n",
    "# The chart\n",
    "view = iradar.chart.Image(None, None, None, maxrange=80.0, figsize=(600, 675), y=+5, overlay=overlay)"
   ]
  },
  {
   "cell_type": "markdown",
   "metadata": {},
   "source": [
    "# Data Viewing"
   ]
  },
  {
   "cell_type": "code",
   "execution_count": null,
   "metadata": {
    "collapsed": true
   },
   "outputs": [],
   "source": [
    "az = sweeps['aa'][0, :]\n",
    "rr = 1.0e-3 * sweeps['rr'][:range_count]\n",
    "view.set_data(np.zeros((azimuth_count, range_count)), a=az, r=rr, style='Z')"
   ]
  },
  {
   "cell_type": "code",
   "execution_count": null,
   "metadata": {},
   "outputs": [],
   "source": [
    "im = []\n",
    "\n",
    "view.set_data(z, style='Z')\n",
    "im.append(view.pixel_buffer())\n",
    "\n",
    "view.set_data(v, style='V')\n",
    "im.append(view.pixel_buffer())\n",
    "\n",
    "buff = np.array(np.hstack(im), dtype=np.uint8)\n",
    "mosaic = iradar.chart.PIL.Image.fromarray(buff)\n",
    "\n",
    "display(mosaic)"
   ]
  },
  {
   "cell_type": "code",
   "execution_count": null,
   "metadata": {
    "collapsed": true
   },
   "outputs": [],
   "source": [
    "# mosaic.save(os.path.expanduser('~/Downloads/88d/cache/{}.png'.format(os.path.basename(filename))))"
   ]
  },
  {
   "cell_type": "code",
   "execution_count": null,
   "metadata": {
    "collapsed": true
   },
   "outputs": [],
   "source": [
    "%matplotlib inline"
   ]
  },
  {
   "cell_type": "code",
   "execution_count": null,
   "metadata": {
    "collapsed": true
   },
   "outputs": [],
   "source": [
    "z_rolled = np.roll(z, -int(az[0]), axis=0)"
   ]
  },
  {
   "cell_type": "code",
   "execution_count": null,
   "metadata": {},
   "outputs": [],
   "source": [
    "zmap = iradar.colormap.zmap()\n",
    "cmap = matplotlib.colors.LinearSegmentedColormap.from_list('colors', zmap[:, :3], N=len(zmap))"
   ]
  },
  {
   "cell_type": "code",
   "execution_count": null,
   "metadata": {},
   "outputs": [],
   "source": [
    "plt.figure(dpi=250)\n",
    "plt.imshow(z_rolled[:, 0:300], cmap=cmap)\n",
    "plt.clim((-32, 96))"
   ]
  },
  {
   "cell_type": "code",
   "execution_count": null,
   "metadata": {},
   "outputs": [],
   "source": [
    "az_sub = np.arange(220, 250)\n",
    "rr_sub = np.arange(80, 140)\n",
    "\n",
    "plt.figure(dpi=250)\n",
    "plt.pcolormesh(rr_sub, az_sub, z_rolled[az_sub, :][:, rr_sub], cmap=cmap)\n",
    "plt.clim((-32, 96))\n",
    "plt.grid()"
   ]
  },
  {
   "cell_type": "markdown",
   "metadata": {
    "collapsed": true
   },
   "source": [
    "# Cell Marking"
   ]
  },
  {
   "cell_type": "code",
   "execution_count": null,
   "metadata": {},
   "outputs": [],
   "source": [
    "cells = np.array([\n",
    "    [227, 110],\n",
    "    [227, 111],\n",
    "    [227, 112],\n",
    "    [227, 113],\n",
    "    [227, 114],\n",
    "    [227, 115],\n",
    "    [227, 116],\n",
    "    [227, 117],\n",
    "    [227, 118],\n",
    "    [227, 119],\n",
    "    [228, 106],\n",
    "    [228, 108],\n",
    "    [228, 109],\n",
    "    [228, 110],\n",
    "    [228, 111],\n",
    "    [228, 112],\n",
    "    [228, 113],\n",
    "    [228, 115],\n",
    "    [228, 116],\n",
    "    [229, 106],\n",
    "    [229, 107],\n",
    "    [229, 108],\n",
    "    [229, 109],\n",
    "    [229, 115],\n",
    "    [229, 116],\n",
    "    [229, 117],\n",
    "    [229, 118],\n",
    "    [229, 119],\n",
    "    [229, 120],\n",
    "    [229, 121],\n",
    "    [229, 122],\n",
    "    [229, 123],\n",
    "    [230, 98],\n",
    "    [230, 99],\n",
    "    [230, 100],\n",
    "    [230, 101],\n",
    "    [230, 102],\n",
    "    [230, 103],\n",
    "    [230, 106],\n",
    "    [230, 107],\n",
    "    [230, 108],\n",
    "    [230, 113],\n",
    "    [230, 114],\n",
    "    [230, 115],\n",
    "    [230, 116],\n",
    "    [230, 117],\n",
    "    [231, 97],\n",
    "    [231, 98],\n",
    "    [231, 99],\n",
    "    [231, 100],\n",
    "    [231, 101],\n",
    "    [231, 102],\n",
    "    [231, 108],\n",
    "    [231, 109],\n",
    "    [231, 110],\n",
    "    [231, 111],\n",
    "    [231, 112],\n",
    "    [231, 113],\n",
    "    [231, 114],\n",
    "    [231, 115],\n",
    "    [231, 116],\n",
    "    [232, 102],\n",
    "    [232, 105],\n",
    "    [232, 106],\n",
    "    [232, 107],\n",
    "    [232, 108],\n",
    "    [232, 109],\n",
    "    [232, 110],\n",
    "    [232, 111],\n",
    "    [232, 112],\n",
    "    [232, 113],\n",
    "    [232, 124],\n",
    "    [232, 125],\n",
    "    [232, 126],\n",
    "    [232, 127],\n",
    "    [232, 128],\n",
    "    [232, 129],\n",
    "    [233, 101],\n",
    "    [233, 102],\n",
    "    [233, 103],\n",
    "    [233, 104],\n",
    "    [233, 105],\n",
    "    [233, 106],\n",
    "    [233, 107],\n",
    "    [233, 108],\n",
    "    [233, 119],\n",
    "    [233, 120],\n",
    "    [233, 121],\n",
    "    [233, 122],\n",
    "    [233, 123],\n",
    "    [233, 124],\n",
    "    [233, 125],\n",
    "    [233, 126],\n",
    "    [234, 97],\n",
    "    [234, 98],\n",
    "    [234, 99],\n",
    "    [234, 100],\n",
    "    [234, 101],\n",
    "    [234, 102],\n",
    "    [234, 103],\n",
    "    [234, 104],\n",
    "    [234, 107],\n",
    "    [234, 112],\n",
    "    [234, 113],\n",
    "    [234, 114],\n",
    "    [234, 115],\n",
    "    [234, 116],\n",
    "    [234, 117],\n",
    "    [234, 118],\n",
    "    [234, 119],\n",
    "    [234, 120],\n",
    "    [235, 94],\n",
    "    [235, 95],\n",
    "    [235, 96],\n",
    "    [235, 97],\n",
    "    [235, 98],\n",
    "    [235, 99],\n",
    "    [235, 100],\n",
    "    [235, 108],\n",
    "    [235, 109],\n",
    "    [235, 110],\n",
    "    [235, 111],\n",
    "    [235, 112],\n",
    "    [235, 113],\n",
    "    [235, 114],\n",
    "    [235, 115],\n",
    "    [236, 104],\n",
    "    [236, 105],\n",
    "    [236, 106],\n",
    "    [236, 107],\n",
    "    [236, 108],\n",
    "    [236, 109],\n",
    "    [236, 110],\n",
    "    [236, 111],\n",
    "    [236, 112],\n",
    "    [236, 118],\n",
    "    [236, 119],\n",
    "    [236, 120],\n",
    "    [236, 121],\n",
    "    [236, 122],\n",
    "    [236, 124],\n",
    "    [237, 100],\n",
    "    [237, 101],\n",
    "    [237, 102],\n",
    "    [237, 103],\n",
    "    [237, 104],\n",
    "    [237, 105],\n",
    "    [237, 106],\n",
    "    [237, 107],\n",
    "    [237, 114],\n",
    "    [237, 115],\n",
    "    [237, 116],\n",
    "    [237, 117],\n",
    "    [237, 118],\n",
    "    [237, 119],\n",
    "    [237, 120],\n",
    "    [237, 121],\n",
    "    [238, 98],\n",
    "    [238, 99],\n",
    "    [238, 100],\n",
    "    [238, 101],\n",
    "    [238, 102],\n",
    "    [238, 103],\n",
    "    [238, 104],\n",
    "    [238, 109],\n",
    "    [238, 110],\n",
    "    [238, 111],\n",
    "    [238, 112],\n",
    "    [238, 113],\n",
    "    [238, 114],\n",
    "    [238, 115],\n",
    "    [239, 105],\n",
    "    [239, 106],\n",
    "    [239, 107],\n",
    "    [239, 108],\n",
    "    [239, 109],\n",
    "    [239, 110],\n",
    "    [239, 111],\n",
    "    [239, 112],\n",
    "    [240, 102],\n",
    "    [240, 104],\n",
    "    [240, 105],\n",
    "    [240, 106],\n",
    "    [240, 107],\n",
    "    [240, 108],\n",
    "    [240, 111],\n",
    "    [241, 100],\n",
    "    [241, 101],\n",
    "    [241, 102],\n",
    "    [241, 103],\n",
    "    [241, 106],\n",
    "    [241, 107],\n",
    "    [242, 101],\n",
    "    [242, 102],\n",
    "    [242, 103]\n",
    "])\n",
    "z_marked = z_rolled.copy()\n",
    "for cell in cells:\n",
    "    z_marked[cell[0], cell[1]] = 65"
   ]
  },
  {
   "cell_type": "code",
   "execution_count": null,
   "metadata": {},
   "outputs": [],
   "source": [
    "plt.figure(dpi=250)\n",
    "# plt.pcolormesh(rr_sub, az_sub, z_marked[az_sub, :][:, rr_sub], cmap=cmap)\n",
    "plt.pcolormesh(rr_sub, az_sub, z_rolled[az_sub, :][:, rr_sub], cmap=cmap)\n",
    "plt.plot(cells[:, 1] + 0.5, cells[:, 0] + 0.5, 'xw')\n",
    "plt.clim((-32, 96))\n",
    "plt.grid()"
   ]
  },
  {
   "cell_type": "code",
   "execution_count": null,
   "metadata": {
    "collapsed": true
   },
   "outputs": [],
   "source": []
  }
 ],
 "metadata": {
  "kernelspec": {
   "display_name": "Python 3",
   "language": "python",
   "name": "python3"
  },
  "language_info": {
   "codemirror_mode": {
    "name": "ipython",
    "version": 3
   },
   "file_extension": ".py",
   "mimetype": "text/x-python",
   "name": "python",
   "nbconvert_exporter": "python",
   "pygments_lexer": "ipython3",
   "version": "3.6.5"
  }
 },
 "nbformat": 4,
 "nbformat_minor": 2
}
