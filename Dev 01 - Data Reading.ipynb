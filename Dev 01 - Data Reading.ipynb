{
 "cells": [
  {
   "cell_type": "markdown",
   "metadata": {},
   "source": [
    "# Data Reading"
   ]
  },
  {
   "cell_type": "code",
   "execution_count": null,
   "metadata": {},
   "outputs": [],
   "source": [
    "import os\n",
    "import sys\n",
    "import numpy as np\n",
    "\n",
    "# Local modules\n",
    "import nexrad\n",
    "\n",
    "# iRadar\n",
    "sys.path.append(os.path.expanduser('~/Developer/iradar/python'))\n",
    "import iradar"
   ]
  },
  {
   "cell_type": "code",
   "execution_count": null,
   "metadata": {
    "collapsed": true
   },
   "outputs": [],
   "source": [
    "filename = os.path.expanduser('~/Downloads/88d/KDDC/KDDC20200131_010529_V06')"
   ]
  },
  {
   "cell_type": "code",
   "execution_count": null,
   "metadata": {},
   "outputs": [],
   "source": [
    "sweeps = nexrad.read(filename)\n",
    "\n",
    "m = sweeps['m'][0, :, :range_count]\n",
    "z = sweeps['z'][0, :, :range_count]\n",
    "v = sweeps['v'][0, :, :range_count]\n",
    "\n",
    "m = np.logical_or(m, z < -5.0)\n",
    "z[m] = np.nan\n",
    "v[m] = np.nan"
   ]
  },
  {
   "cell_type": "code",
   "execution_count": null,
   "metadata": {},
   "outputs": [],
   "source": [
    "# The overlay\n",
    "overlay = iradar.atlas.Overlay((sweeps['longitude'], sweeps['latitude']))\n",
    "overlay.load()\n",
    "overlay.setRingRadii([1.0, 30.0, 60.0, 90.0])\n",
    "overlay.prepareForRect([-50.0, -50.0, 100.0, 100.0])\n",
    "\n",
    "# The chart\n",
    "view = iradar.chart.Image(None, None, None, maxrange=80.0, figsize=(600, 675), y=+5, overlay=overlay)"
   ]
  },
  {
   "cell_type": "markdown",
   "metadata": {},
   "source": [
    "# View the Data"
   ]
  },
  {
   "cell_type": "code",
   "execution_count": null,
   "metadata": {
    "collapsed": true
   },
   "outputs": [],
   "source": [
    "azimuth_count = 360\n",
    "range_count = 800"
   ]
  },
  {
   "cell_type": "code",
   "execution_count": null,
   "metadata": {},
   "outputs": [],
   "source": [
    "az = sweeps['aa'][0, :]\n",
    "rr = 1.0e-3 * sweeps['rr'][:range_count]\n",
    "view.set_data(np.zeros((azimuth_count, range_count)), a=az, r=rr, style='Z')"
   ]
  },
  {
   "cell_type": "code",
   "execution_count": null,
   "metadata": {},
   "outputs": [],
   "source": [
    "im = []\n",
    "\n",
    "view.set_data(z, style='Z')\n",
    "im.append(view.pixel_buffer())\n",
    "\n",
    "view.set_data(v, style='V')\n",
    "im.append(view.pixel_buffer())\n",
    "\n",
    "buff = np.array(np.hstack(im), dtype=np.uint8)\n",
    "mosaic = iradar.chart.PIL.Image.fromarray(buff)\n",
    "\n",
    "display(mosaic)"
   ]
  },
  {
   "cell_type": "code",
   "execution_count": null,
   "metadata": {},
   "outputs": [],
   "source": [
    "mosaic.save(os.path.expanduser('~/Downloads/kddc.png'))"
   ]
  },
  {
   "cell_type": "code",
   "execution_count": null,
   "metadata": {
    "collapsed": true
   },
   "outputs": [],
   "source": []
  }
 ],
 "metadata": {
  "kernelspec": {
   "display_name": "Python 3",
   "language": "python",
   "name": "python3"
  },
  "language_info": {
   "codemirror_mode": {
    "name": "ipython",
    "version": 3
   },
   "file_extension": ".py",
   "mimetype": "text/x-python",
   "name": "python",
   "nbconvert_exporter": "python",
   "pygments_lexer": "ipython3",
   "version": "3.6.5"
  }
 },
 "nbformat": 4,
 "nbformat_minor": 2
}
