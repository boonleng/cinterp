{
 "cells": [
  {
   "cell_type": "markdown",
   "metadata": {},
   "source": [
    "# Data Reading"
   ]
  },
  {
   "cell_type": "code",
   "execution_count": null,
   "metadata": {
    "collapsed": true
   },
   "outputs": [],
   "source": [
    "import os\n",
    "import sys\n",
    "import glob\n",
    "import numpy as np\n",
    "import matplotlib\n",
    "import matplotlib.pyplot as plt\n",
    "\n",
    "# Local modules\n",
    "import nexrad\n",
    "\n",
    "# iRadar\n",
    "sys.path.append(os.path.expanduser('~/Developer/iradar/python'))\n",
    "import iradar"
   ]
  },
  {
   "cell_type": "code",
   "execution_count": null,
   "metadata": {
    "collapsed": true
   },
   "outputs": [],
   "source": [
    "plt.rcParams['axes.facecolor'] = 'black'"
   ]
  },
  {
   "cell_type": "code",
   "execution_count": null,
   "metadata": {
    "collapsed": true
   },
   "outputs": [],
   "source": []
  },
  {
   "cell_type": "code",
   "execution_count": null,
   "metadata": {
    "collapsed": true
   },
   "outputs": [],
   "source": [
    "files = glob.glob(os.path.expanduser('~/Downloads/88d/KDDC/*V06'))"
   ]
  },
  {
   "cell_type": "code",
   "execution_count": null,
   "metadata": {
    "collapsed": true
   },
   "outputs": [],
   "source": [
    "# filename = os.path.expanduser('~/Downloads/88d/KDDC/KDDC20200131_010529_V06')\n",
    "# filename = os.path.expanduser('~/Downloads/88d/KDDC/KDDC20200131_165722_V06')\n",
    "filename = files[0]\n",
    "\n",
    "azimuth_count = 360\n",
    "range_count = 800"
   ]
  },
  {
   "cell_type": "code",
   "execution_count": null,
   "metadata": {
    "collapsed": true
   },
   "outputs": [],
   "source": [
    "sweeps = nexrad.read(filename)\n",
    "\n",
    "m = sweeps['m'][0, :, :range_count]\n",
    "z = sweeps['z'][0, :, :range_count]\n",
    "v = sweeps['v'][0, :, :range_count]\n",
    "\n",
    "m = np.logical_or(m, z < -5.0)\n",
    "z[m] = np.nan\n",
    "v[m] = np.nan"
   ]
  },
  {
   "cell_type": "code",
   "execution_count": null,
   "metadata": {
    "collapsed": true
   },
   "outputs": [],
   "source": [
    "# The overlay\n",
    "overlay = iradar.atlas.Overlay((sweeps['longitude'], sweeps['latitude']))\n",
    "overlay.load()\n",
    "overlay.setRingRadii([1.0, 30.0, 60.0, 90.0])\n",
    "overlay.prepareForRect([-50.0, -50.0, 100.0, 100.0])\n",
    "\n",
    "# The chart\n",
    "view = iradar.chart.Image(None, None, None, maxrange=80.0, figsize=(600, 675), y=+5, overlay=overlay)"
   ]
  },
  {
   "cell_type": "markdown",
   "metadata": {},
   "source": [
    "# Data Viewing"
   ]
  },
  {
   "cell_type": "code",
   "execution_count": null,
   "metadata": {
    "collapsed": true
   },
   "outputs": [],
   "source": [
    "az = sweeps['aa'][0, :]\n",
    "rr = 1.0e-3 * sweeps['rr'][:range_count]\n",
    "view.set_data(np.zeros((azimuth_count, range_count)), a=az, r=rr, style='Z')"
   ]
  },
  {
   "cell_type": "code",
   "execution_count": null,
   "metadata": {},
   "outputs": [],
   "source": [
    "im = []\n",
    "\n",
    "view.set_data(z, style='Z')\n",
    "im.append(view.pixel_buffer())\n",
    "\n",
    "view.set_data(v, style='V')\n",
    "im.append(view.pixel_buffer())\n",
    "\n",
    "buff = np.array(np.hstack(im), dtype=np.uint8)\n",
    "mosaic = iradar.chart.PIL.Image.fromarray(buff)\n",
    "\n",
    "display(mosaic)"
   ]
  },
  {
   "cell_type": "code",
   "execution_count": null,
   "metadata": {
    "collapsed": true
   },
   "outputs": [],
   "source": [
    "# mosaic.save(os.path.expanduser('~/Downloads/88d/cache/{}.png'.format(os.path.basename(filename))))"
   ]
  },
  {
   "cell_type": "code",
   "execution_count": null,
   "metadata": {
    "collapsed": true
   },
   "outputs": [],
   "source": [
    "%matplotlib inline"
   ]
  },
  {
   "cell_type": "code",
   "execution_count": null,
   "metadata": {
    "collapsed": true
   },
   "outputs": [],
   "source": [
    "z_rolled = np.roll(z, -int(az[0]), axis=0)"
   ]
  },
  {
   "cell_type": "code",
   "execution_count": null,
   "metadata": {},
   "outputs": [],
   "source": [
    "zmap = iradar.colormap.zmap()\n",
    "cmap = matplotlib.colors.LinearSegmentedColormap.from_list('colors', zmap[:, :3], N=len(zmap))"
   ]
  },
  {
   "cell_type": "code",
   "execution_count": null,
   "metadata": {},
   "outputs": [],
   "source": [
    "plt.figure(dpi=250)\n",
    "plt.imshow(z_rolled[:, 0:300], cmap=cmap)\n",
    "plt.clim((-32, 96))"
   ]
  },
  {
   "cell_type": "code",
   "execution_count": null,
   "metadata": {},
   "outputs": [],
   "source": [
    "az_sub = np.arange(220, 250)\n",
    "rr_sub = np.arange(80, 140)\n",
    "\n",
    "plt.figure(dpi=250)\n",
    "plt.pcolormesh(rr_sub, az_sub, z_rolled[az_sub, :][:, rr_sub], cmap=cmap)\n",
    "plt.clim((-32, 96))\n",
    "plt.grid()"
   ]
  },
  {
   "cell_type": "markdown",
   "metadata": {
    "collapsed": true
   },
   "source": [
    "# Cell Marking"
   ]
  },
  {
   "cell_type": "code",
   "execution_count": null,
   "metadata": {},
   "outputs": [],
   "source": [
    "cells = np.array([\n",
    "    [235, 94],\n",
    "    [235, 95]\n",
    "])\n",
    "z_marked = z_rolled.copy()\n",
    "for cell in cells:\n",
    "    z_marked[cell[0], cell[1]] = 65"
   ]
  },
  {
   "cell_type": "code",
   "execution_count": null,
   "metadata": {},
   "outputs": [],
   "source": [
    "plt.figure(dpi=250)\n",
    "plt.pcolormesh(rr_sub, az_sub, z_marked[az_sub, :][:, rr_sub], cmap=cmap)\n",
    "plt.clim((-32, 96))\n",
    "plt.grid()"
   ]
  },
  {
   "cell_type": "code",
   "execution_count": null,
   "metadata": {
    "collapsed": true
   },
   "outputs": [],
   "source": []
  }
 ],
 "metadata": {
  "kernelspec": {
   "display_name": "Python 3",
   "language": "python",
   "name": "python3"
  },
  "language_info": {
   "codemirror_mode": {
    "name": "ipython",
    "version": 3
   },
   "file_extension": ".py",
   "mimetype": "text/x-python",
   "name": "python",
   "nbconvert_exporter": "python",
   "pygments_lexer": "ipython3",
   "version": "3.6.5"
  }
 },
 "nbformat": 4,
 "nbformat_minor": 2
}
