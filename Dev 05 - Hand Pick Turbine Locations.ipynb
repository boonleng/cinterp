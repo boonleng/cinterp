{
 "cells": [
  {
   "cell_type": "markdown",
   "metadata": {},
   "source": [
    "# Using `toshiba` Module"
   ]
  },
  {
   "cell_type": "code",
   "execution_count": null,
   "metadata": {
    "collapsed": true
   },
   "outputs": [],
   "source": [
    "import os\n",
    "import sys\n",
    "import glob\n",
    "import time\n",
    "import numpy as np\n",
    "import scipy\n",
    "import scipy.interpolate\n",
    "import matplotlib\n",
    "import matplotlib.pyplot as plt\n",
    "\n",
    "# Local modules\n",
    "import toshiba\n",
    "\n",
    "# iRadar\n",
    "sys.path.append(os.path.expanduser('~/Developer/iradar/python'))\n",
    "import iradar"
   ]
  },
  {
   "cell_type": "code",
   "execution_count": null,
   "metadata": {
    "collapsed": true
   },
   "outputs": [],
   "source": [
    "files = glob.glob(os.path.expanduser('~/Downloads/toshiba/*.nc'))\n",
    "filename = files[0]\n",
    "\n",
    "# azimuth_count = 360\n",
    "range_count = 200"
   ]
  },
  {
   "cell_type": "code",
   "execution_count": null,
   "metadata": {
    "collapsed": true
   },
   "outputs": [],
   "source": [
    "sweep = toshiba.read(filename, maxgate=range_count)"
   ]
  },
  {
   "cell_type": "code",
   "execution_count": null,
   "metadata": {
    "collapsed": true
   },
   "outputs": [],
   "source": [
    "# %matplotlib inline\n",
    "# plt.rcParams['axes.facecolor'] = 'black'\n",
    "zmap = iradar.colormap.zmap()\n",
    "cmap = matplotlib.colors.LinearSegmentedColormap.from_list('colors', zmap[:, :3], N=len(zmap))"
   ]
  },
  {
   "cell_type": "code",
   "execution_count": null,
   "metadata": {
    "scrolled": false
   },
   "outputs": [],
   "source": [
    "plt.figure(dpi=200)\n",
    "plt.pcolormesh(sweep['z'], cmap=cmap)\n",
    "plt.clim((-32, 96))\n",
    "plt.colorbar()\n",
    "plt.grid()"
   ]
  },
  {
   "cell_type": "code",
   "execution_count": null,
   "metadata": {
    "collapsed": true
   },
   "outputs": [],
   "source": [
    "r = 1.0e-3 * sweep['rr']\n",
    "a = np.pi / 180.0 * sweep['aa']\n",
    "rr, aa = np.meshgrid(r, a)\n",
    "xx = rr * np.sin(aa)\n",
    "yy = rr * np.cos(aa)"
   ]
  },
  {
   "cell_type": "code",
   "execution_count": null,
   "metadata": {},
   "outputs": [],
   "source": [
    "import importlib\n",
    "import cinterp"
   ]
  },
  {
   "cell_type": "code",
   "execution_count": null,
   "metadata": {},
   "outputs": [],
   "source": [
    "cinterp.data = importlib.reload(cinterp.data)\n",
    "\n",
    "turbines = cinterp.data.toshiba_cells\n",
    "\n",
    "a_turb = turbines[:, 0] / 180.0 * np.pi\n",
    "r_turb = turbines[:, 1]\n",
    "x_turb = r_turb * np.sin(a_turb)\n",
    "y_turb = r_turb * np.cos(a_turb)\n",
    "\n",
    "plt.figure(figsize=(5.25, 4), dpi=200)\n",
    "plt.pcolormesh(xx, yy, sweep['z'], cmap=cmap)\n",
    "plt.plot(x_turb, y_turb, 'xw')\n",
    "plt.clim((-32, 96))\n",
    "plt.colorbar()\n",
    "plt.grid()\n",
    "# plt.xlim((-5, 5))\n",
    "# plt.ylim((-14, -4))\n",
    "plt.xlim((0, 5))\n",
    "plt.ylim((-10.5, -5.5))\n",
    "plt.show()"
   ]
  },
  {
   "cell_type": "code",
   "execution_count": null,
   "metadata": {
    "collapsed": true
   },
   "outputs": [],
   "source": [
    "def cell2idx(cells, aa, rr):\n",
    "    "
   ]
  }
 ],
 "metadata": {
  "kernelspec": {
   "display_name": "Python 3",
   "language": "python",
   "name": "python3"
  },
  "language_info": {
   "codemirror_mode": {
    "name": "ipython",
    "version": 3
   },
   "file_extension": ".py",
   "mimetype": "text/x-python",
   "name": "python",
   "nbconvert_exporter": "python",
   "pygments_lexer": "ipython3",
   "version": "3.6.5"
  }
 },
 "nbformat": 4,
 "nbformat_minor": 2
}
