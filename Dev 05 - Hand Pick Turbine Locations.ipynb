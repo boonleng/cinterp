{
 "cells": [
  {
   "cell_type": "markdown",
   "metadata": {},
   "source": [
    "# Hand Pick Turbine Locations"
   ]
  },
  {
   "cell_type": "code",
   "execution_count": null,
   "metadata": {},
   "outputs": [],
   "source": [
    "%matplotlib inline\n",
    "\n",
    "import os\n",
    "import sys\n",
    "import glob\n",
    "import time\n",
    "import numpy as np\n",
    "import scipy\n",
    "import scipy.interpolate\n",
    "import matplotlib\n",
    "import matplotlib.pyplot as plt\n",
    "\n",
    "# Local modules\n",
    "import toshiba\n",
    "import cinterp"
   ]
  },
  {
   "cell_type": "code",
   "execution_count": null,
   "metadata": {},
   "outputs": [],
   "source": [
    "zmap = cinterp.colormap.zmap()\n",
    "cmap = matplotlib.colors.LinearSegmentedColormap.from_list('colors', zmap[:, :3], N=len(zmap))"
   ]
  },
  {
   "cell_type": "code",
   "execution_count": null,
   "metadata": {},
   "outputs": [],
   "source": [
    "files = glob.glob(os.path.expanduser('~/Downloads/toshiba/*.nc'))\n",
    "filename = files[0]\n",
    "\n",
    "# azimuth_count = 360\n",
    "range_count = 200"
   ]
  },
  {
   "cell_type": "code",
   "execution_count": null,
   "metadata": {},
   "outputs": [],
   "source": [
    "sweep = toshiba.read(filename, maxgate=range_count)"
   ]
  },
  {
   "cell_type": "code",
   "execution_count": null,
   "metadata": {
    "scrolled": false
   },
   "outputs": [],
   "source": [
    "plt.figure(dpi=200)\n",
    "plt.pcolormesh(sweep['z'], cmap=cmap)\n",
    "plt.clim((-32, 96))\n",
    "plt.colorbar()\n",
    "plt.grid()"
   ]
  },
  {
   "cell_type": "code",
   "execution_count": null,
   "metadata": {},
   "outputs": [],
   "source": [
    "# Get the reflectivity and raw range and azimuth angles\n",
    "z = sweep['z']\n",
    "r = 1.0e-3 * sweep['rr']\n",
    "a = sweep['aa']\n",
    "\n",
    "# Only retain the 360-deg coverage, take out the extra piece\n",
    "k = next(k for k, ia in enumerate(a[::-1]) if abs(ia > a[0]) < 0.5) \n",
    "a = a[:-k] / 180.0 * np.pi\n",
    "z = sweep['z'][:-k, :]\n",
    "\n",
    "rr, aa = np.meshgrid(r, a)\n",
    "xx = rr * np.sin(aa)\n",
    "yy = rr * np.cos(aa)"
   ]
  },
  {
   "cell_type": "code",
   "execution_count": null,
   "metadata": {},
   "outputs": [],
   "source": [
    "# cinterp.data = importlib.reload(cinterp.data)"
   ]
  },
  {
   "cell_type": "code",
   "execution_count": null,
   "metadata": {},
   "outputs": [],
   "source": [
    "turbines = cinterp.data.toshiba_cells\n",
    "\n",
    "a_turb = turbines[:, 0] / 180.0 * np.pi\n",
    "r_turb = turbines[:, 1]\n",
    "x_turb = r_turb * np.sin(a_turb)\n",
    "y_turb = r_turb * np.cos(a_turb)\n",
    "\n",
    "xlim = (-1, 6)\n",
    "ylim = (-12.5, -5.5)\n",
    "# xlim = (2.2, 4.2)\n",
    "# ylim = (-10.5, -8.5)\n",
    "\n",
    "plt.figure(figsize=(5.25, 4), dpi=200)\n",
    "plt.pcolormesh(xx, yy, z, cmap=cmap)\n",
    "plt.plot(x_turb, y_turb, 'xw')\n",
    "plt.clim((-32, 96))\n",
    "plt.colorbar()\n",
    "plt.grid()\n",
    "# plt.xlim((-5, 5))\n",
    "# plt.ylim((-14, -4))\n",
    "# plt.xlim((0, 5))\n",
    "# plt.ylim((-10.5, -5.5))\n",
    "plt.xlim(xlim)\n",
    "plt.ylim(ylim)"
   ]
  },
  {
   "cell_type": "code",
   "execution_count": null,
   "metadata": {},
   "outputs": [],
   "source": [
    "cells = cinterp.pos2cellid(turbines, a / np.pi * 180.0, r)"
   ]
  },
  {
   "cell_type": "code",
   "execution_count": null,
   "metadata": {},
   "outputs": [],
   "source": [
    "# for c in cells:\n",
    "#     print((a[c[0]] * 180.0 / np.pi, r[c[1]]))"
   ]
  },
  {
   "cell_type": "code",
   "execution_count": null,
   "metadata": {},
   "outputs": [],
   "source": [
    "z_interp = z.copy()\n",
    "\n",
    "m = np.zeros(z_interp.shape, dtype=bool)\n",
    "for c in cells:\n",
    "    m[c[0], c[1]] = True\n",
    "m1 = cinterp.dilate(m)\n",
    "m2 = cinterp.dilate(m1)\n",
    "    \n",
    "z_interp[m2] = 36\n",
    "z_interp[m] = 66.0"
   ]
  },
  {
   "cell_type": "code",
   "execution_count": null,
   "metadata": {},
   "outputs": [],
   "source": [
    "plt.figure(figsize=(5.25, 4), dpi=200)\n",
    "plt.pcolormesh(xx, yy, z_interp, cmap=cmap)\n",
    "plt.plot(x_turb, y_turb, 'xw')\n",
    "plt.clim((-32, 96))\n",
    "plt.colorbar()\n",
    "plt.grid()\n",
    "plt.xlim(xlim)\n",
    "plt.ylim(ylim)"
   ]
  },
  {
   "cell_type": "code",
   "execution_count": null,
   "metadata": {},
   "outputs": [],
   "source": [
    "c = cinterp.mask2tags(m1)\n",
    "\n",
    "# Take out the dilated portion\n",
    "c[m1 ^ m] = 0"
   ]
  },
  {
   "cell_type": "code",
   "execution_count": null,
   "metadata": {},
   "outputs": [],
   "source": [
    "plt.figure(figsize=(5.25, 4), dpi=200)\n",
    "plt.pcolormesh(xx, yy, 5 * c, cmap=cmap)\n",
    "plt.clim((-32, 96))\n",
    "plt.colorbar()\n",
    "plt.grid()\n",
    "plt.xlim(xlim)\n",
    "plt.ylim(ylim)"
   ]
  },
  {
   "cell_type": "code",
   "execution_count": null,
   "metadata": {},
   "outputs": [],
   "source": []
  }
 ],
 "metadata": {
  "kernelspec": {
   "display_name": "Python 3",
   "language": "python",
   "name": "python3"
  },
  "language_info": {
   "codemirror_mode": {
    "name": "ipython",
    "version": 3
   },
   "file_extension": ".py",
   "mimetype": "text/x-python",
   "name": "python",
   "nbconvert_exporter": "python",
   "pygments_lexer": "ipython3",
   "version": "3.7.4"
  }
 },
 "nbformat": 4,
 "nbformat_minor": 2
}
