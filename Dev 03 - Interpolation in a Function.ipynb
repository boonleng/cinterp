{
 "cells": [
  {
   "cell_type": "markdown",
   "metadata": {},
   "source": [
    "# Using the `cinterp` Module"
   ]
  },
  {
   "cell_type": "code",
   "execution_count": 1,
   "metadata": {},
   "outputs": [],
   "source": [
    "import os\n",
    "import sys\n",
    "import glob\n",
    "import numpy as np\n",
    "import matplotlib\n",
    "import matplotlib.pyplot as plt\n",
    "\n",
    "# Local modules\n",
    "import nexrad\n",
    "import cinterp\n",
    "\n",
    "# iRadar\n",
    "sys.path.append(os.path.expanduser('~/Developer/iradar/python'))\n",
    "import iradar"
   ]
  },
  {
   "cell_type": "markdown",
   "metadata": {},
   "source": [
    "# Read a NEXRAD Sweep"
   ]
  },
  {
   "cell_type": "code",
   "execution_count": 3,
   "metadata": {},
   "outputs": [],
   "source": [
    "files = glob.glob(os.path.expanduser('~/Downloads/88d/KDDC/*V06'))\n",
    "filename = files[0]\n",
    "\n",
    "azimuth_count = 360\n",
    "range_count = 800\n",
    "\n",
    "sweeps = nexrad.read(filename)\n",
    "\n",
    "z = sweeps['z'][0, :, :range_count]\n",
    "\n",
    "az = sweeps['aa'][0, :]\n",
    "rr = 1.0e-3 * sweeps['rr'][:range_count]\n",
    "\n",
    "roll_amount = int(az[0] * 180.0 / np.pi)\n",
    "z_rolled = np.roll(z, roll_amount, axis=0)"
   ]
  },
  {
   "cell_type": "code",
   "execution_count": 4,
   "metadata": {},
   "outputs": [
    {
     "data": {
      "text/plain": [
       "{'longitude': -99.96888732910156,\n",
       " 'latitude': 37.760833740234375,\n",
       " 'time': time.struct_time(tm_year=2020, tm_mon=1, tm_mday=29, tm_hour=1, tm_min=17, tm_sec=29, tm_wday=2, tm_yday=29, tm_isdst=0),\n",
       " 'ee': array([0.48339844, 0.87890625, 1.3183594 ], dtype=float32),\n",
       " 'aa': array([[1.05015366, 1.06784238, 1.08538728, ..., 0.99881324, 1.0161664 ,\n",
       "         1.0337113 ],\n",
       "        [1.53930178, 1.55689463, 1.57429572, ..., 1.48719437, 1.5050269 ,\n",
       "         1.52223625],\n",
       "        [2.09848572, 2.115743  , 2.13295235, ..., 2.045851  , 2.06358765,\n",
       "         2.080797  ]]),\n",
       " 'rr': array([  2125.,   2375.,   2625., ..., 459375., 459625., 459875.],\n",
       "       dtype=float32),\n",
       " 'z': array([[[ -8. ,  22.5,  22. , ..., -32.5, -32.5, -32.5],\n",
       "         [ 46. ,  25.5,  16.5, ..., -32.5, -32.5, -32.5],\n",
       "         [ 44.5,  -3. ,  13. , ..., -32.5, -32.5, -32.5],\n",
       "         ...,\n",
       "         [-33. , -33. ,  14. , ..., -32.5, -32.5, -32.5],\n",
       "         [-13. ,  40. ,  19. , ..., -32.5, -32.5, -32.5],\n",
       "         [-13.5, -10. ,  -8. , ..., -32.5, -32.5, -32.5]],\n",
       " \n",
       "        [[-15.5,   7.5,  11.5, ..., -32.5, -32.5, -32.5],\n",
       "         [ -8. ,  11.5,  15.5, ..., -32.5, -32.5, -32.5],\n",
       "         [-26. , -15. , -11.5, ..., -32.5, -32.5, -32.5],\n",
       "         ...,\n",
       "         [ 23. ,   1.5,  -2. , ..., -32.5, -32.5, -32.5],\n",
       "         [ -9.5, -10.5,  -4. , ..., -32.5, -32.5, -32.5],\n",
       "         [-23.5,  -3.5,  -6.5, ..., -32.5, -32.5, -32.5]],\n",
       " \n",
       "        [[  3. , -12. , -12.5, ..., -32.5, -32.5, -32.5],\n",
       "         [-12.5, -15. , -23.5, ..., -32.5, -32.5, -32.5],\n",
       "         [-18. , -23. , -26.5, ..., -32.5, -32.5, -32.5],\n",
       "         ...,\n",
       "         [-21.5, -21. , -20.5, ..., -32.5, -32.5, -32.5],\n",
       "         [ -6.5,  -6.5,  -7. , ..., -32.5, -32.5, -32.5],\n",
       "         [-10.5,   7.5,   9. , ..., -32.5, -32.5, -32.5]]], dtype=float32),\n",
       " 'v': array([[[-64.5, -22.5, -22.5, ..., -64. , -64. , -64. ],\n",
       "         [-21. , -21. , -20.5, ..., -64. , -64. , -64. ],\n",
       "         [-21.5, -64.5, -22.5, ..., -64. , -64. , -64. ],\n",
       "         ...,\n",
       "         [-64.5, -64.5, -64.5, ..., -64. , -64. , -64. ],\n",
       "         [-64.5, -23. ,   2.5, ..., -64. , -64. , -64. ],\n",
       "         [-64.5, -64.5, -64.5, ..., -64. , -64. , -64. ]],\n",
       " \n",
       "        [[-23.5, -13.5, -13. , ..., -64. , -64. , -64. ],\n",
       "         [ 23.5, -14.5, -14.5, ..., -64. , -64. , -64. ],\n",
       "         [-64.5, -14.5, -14.5, ..., -64. , -64. , -64. ],\n",
       "         ...,\n",
       "         [ 16. , -15.5,  -8.5, ..., -64. , -64. , -64. ],\n",
       "         [ 12.5,  21. ,   0.5, ..., -64. , -64. , -64. ],\n",
       "         [-12. ,  21.5, -15.5, ..., -64. , -64. , -64. ]],\n",
       " \n",
       "        [[ -5. ,   2.5,   2.5, ..., -64. , -64. , -64. ],\n",
       "         [ -8.5,  -3. ,   5. , ..., -64. , -64. , -64. ],\n",
       "         [ -1.5, -64.5, -64.5, ..., -64. , -64. , -64. ],\n",
       "         ...,\n",
       "         [ -4.5,  -4. ,  -3. , ..., -64. , -64. , -64. ],\n",
       "         [ -1. ,  -1. ,  -1.5, ..., -64. , -64. , -64. ],\n",
       "         [ -0.5,  -8. ,  -9.5, ..., -64. , -64. , -64. ]]], dtype=float32),\n",
       " 'm': array([[[ True, False, False, ...,  True,  True,  True],\n",
       "         [False, False, False, ...,  True,  True,  True],\n",
       "         [False,  True, False, ...,  True,  True,  True],\n",
       "         ...,\n",
       "         [ True,  True,  True, ...,  True,  True,  True],\n",
       "         [ True, False, False, ...,  True,  True,  True],\n",
       "         [ True,  True,  True, ...,  True,  True,  True]],\n",
       " \n",
       "        [[False, False, False, ...,  True,  True,  True],\n",
       "         [False, False, False, ...,  True,  True,  True],\n",
       "         [ True, False, False, ...,  True,  True,  True],\n",
       "         ...,\n",
       "         [False, False, False, ...,  True,  True,  True],\n",
       "         [False, False, False, ...,  True,  True,  True],\n",
       "         [False, False, False, ...,  True,  True,  True]],\n",
       " \n",
       "        [[False, False, False, ...,  True,  True,  True],\n",
       "         [False, False, False, ...,  True,  True,  True],\n",
       "         [False,  True,  True, ...,  True,  True,  True],\n",
       "         ...,\n",
       "         [False, False, False, ...,  True,  True,  True],\n",
       "         [False, False, False, ...,  True,  True,  True],\n",
       "         [False, False, False, ...,  True,  True,  True]]])}"
      ]
     },
     "execution_count": 4,
     "metadata": {},
     "output_type": "execute_result"
    }
   ],
   "source": [
    "sweeps"
   ]
  },
  {
   "cell_type": "code",
   "execution_count": 2,
   "metadata": {},
   "outputs": [
    {
     "ename": "NameError",
     "evalue": "name 'iradar' is not defined",
     "output_type": "error",
     "traceback": [
      "\u001b[0;31m---------------------------------------------------------------------------\u001b[0m",
      "\u001b[0;31mNameError\u001b[0m                                 Traceback (most recent call last)",
      "\u001b[0;32m<ipython-input-2-142cd92b4875>\u001b[0m in \u001b[0;36m<module>\u001b[0;34m\u001b[0m\n\u001b[1;32m      1\u001b[0m \u001b[0mget_ipython\u001b[0m\u001b[0;34m(\u001b[0m\u001b[0;34m)\u001b[0m\u001b[0;34m.\u001b[0m\u001b[0mrun_line_magic\u001b[0m\u001b[0;34m(\u001b[0m\u001b[0;34m'matplotlib'\u001b[0m\u001b[0;34m,\u001b[0m \u001b[0;34m'inline'\u001b[0m\u001b[0;34m)\u001b[0m\u001b[0;34m\u001b[0m\u001b[0m\n\u001b[1;32m      2\u001b[0m \u001b[0mplt\u001b[0m\u001b[0;34m.\u001b[0m\u001b[0mrcParams\u001b[0m\u001b[0;34m[\u001b[0m\u001b[0;34m'axes.facecolor'\u001b[0m\u001b[0;34m]\u001b[0m \u001b[0;34m=\u001b[0m \u001b[0;34m'black'\u001b[0m\u001b[0;34m\u001b[0m\u001b[0m\n\u001b[0;32m----> 3\u001b[0;31m \u001b[0mzmap\u001b[0m \u001b[0;34m=\u001b[0m \u001b[0miradar\u001b[0m\u001b[0;34m.\u001b[0m\u001b[0mcolormap\u001b[0m\u001b[0;34m.\u001b[0m\u001b[0mzmap\u001b[0m\u001b[0;34m(\u001b[0m\u001b[0;34m)\u001b[0m\u001b[0;34m\u001b[0m\u001b[0m\n\u001b[0m\u001b[1;32m      4\u001b[0m \u001b[0mcmap\u001b[0m \u001b[0;34m=\u001b[0m \u001b[0mmatplotlib\u001b[0m\u001b[0;34m.\u001b[0m\u001b[0mcolors\u001b[0m\u001b[0;34m.\u001b[0m\u001b[0mLinearSegmentedColormap\u001b[0m\u001b[0;34m.\u001b[0m\u001b[0mfrom_list\u001b[0m\u001b[0;34m(\u001b[0m\u001b[0;34m'colors'\u001b[0m\u001b[0;34m,\u001b[0m \u001b[0mzmap\u001b[0m\u001b[0;34m[\u001b[0m\u001b[0;34m:\u001b[0m\u001b[0;34m,\u001b[0m \u001b[0;34m:\u001b[0m\u001b[0;36m3\u001b[0m\u001b[0;34m]\u001b[0m\u001b[0;34m,\u001b[0m \u001b[0mN\u001b[0m\u001b[0;34m=\u001b[0m\u001b[0mlen\u001b[0m\u001b[0;34m(\u001b[0m\u001b[0mzmap\u001b[0m\u001b[0;34m)\u001b[0m\u001b[0;34m)\u001b[0m\u001b[0;34m\u001b[0m\u001b[0m\n",
      "\u001b[0;31mNameError\u001b[0m: name 'iradar' is not defined"
     ]
    }
   ],
   "source": [
    "%matplotlib inline\n",
    "plt.rcParams['axes.facecolor'] = 'black'\n",
    "zmap = iradar.colormap.zmap()\n",
    "cmap = matplotlib.colors.LinearSegmentedColormap.from_list('colors', zmap[:, :3], N=len(zmap))"
   ]
  },
  {
   "cell_type": "markdown",
   "metadata": {},
   "source": [
    "# Cell Indices"
   ]
  },
  {
   "cell_type": "code",
   "execution_count": 3,
   "metadata": {},
   "outputs": [
    {
     "ename": "NameError",
     "evalue": "name 'cinterp' is not defined",
     "output_type": "error",
     "traceback": [
      "\u001b[0;31m---------------------------------------------------------------------------\u001b[0m",
      "\u001b[0;31mNameError\u001b[0m                                 Traceback (most recent call last)",
      "\u001b[0;32m<ipython-input-3-83fe272c04c0>\u001b[0m in \u001b[0;36m<module>\u001b[0;34m\u001b[0m\n\u001b[0;32m----> 1\u001b[0;31m \u001b[0mcells\u001b[0m \u001b[0;34m=\u001b[0m \u001b[0mcinterp\u001b[0m\u001b[0;34m.\u001b[0m\u001b[0mdata\u001b[0m\u001b[0;34m.\u001b[0m\u001b[0mkddc_cells2\u001b[0m\u001b[0;34m\u001b[0m\u001b[0m\n\u001b[0m",
      "\u001b[0;31mNameError\u001b[0m: name 'cinterp' is not defined"
     ]
    }
   ],
   "source": [
    "cells = cinterp.data.kddc_cells2"
   ]
  },
  {
   "cell_type": "markdown",
   "metadata": {},
   "source": [
    "# Calling `cinterp` of the CInterp Module"
   ]
  },
  {
   "cell_type": "code",
   "execution_count": null,
   "metadata": {
    "collapsed": true
   },
   "outputs": [],
   "source": [
    "# The smaller region that contains all the indices of the cells\n",
    "ia_sub, ir_sub = cinterp.cluster_ar_indices(cells)\n",
    "\n",
    "print('ia_sub = {}   ir_sub = {}'.format(ia_sub, ir_sub))\n",
    "\n",
    "# One would expect +3 at the end to be sufficient but pcolor has this weird behavior\n",
    "ia_sub = np.arange(ia_sub[0] - 2, ia_sub[1] + 4)\n",
    "ir_sub = np.arange(ir_sub[0] - 2, ir_sub[1] + 4)"
   ]
  },
  {
   "cell_type": "code",
   "execution_count": null,
   "metadata": {
    "collapsed": true
   },
   "outputs": [],
   "source": [
    "z_interp = cinterp.cinterp(z, az, rr, cells)"
   ]
  },
  {
   "cell_type": "code",
   "execution_count": null,
   "metadata": {
    "collapsed": true
   },
   "outputs": [],
   "source": [
    "plt.figure(dpi=200)\n",
    "plt.pcolormesh(ir_sub, ia_sub, z_rolled[ia_sub, :][:, ir_sub], cmap=cmap)\n",
    "plt.plot(cells[:, 1] + 0.5, cells[:, 0] + 0.5, 'xw', markersize=4)\n",
    "plt.clim((-32, 96))\n",
    "plt.colorbar()\n",
    "plt.grid()\n",
    "\n",
    "plt.figure(dpi=200)\n",
    "plt.pcolormesh(rr[ir_sub], ia_sub, z_interp[ia_sub, :][:, ir_sub], cmap=cmap)\n",
    "plt.clim((-32, 96))\n",
    "plt.colorbar()\n",
    "plt.grid()"
   ]
  },
  {
   "cell_type": "code",
   "execution_count": null,
   "metadata": {
    "collapsed": true
   },
   "outputs": [],
   "source": []
  }
 ],
 "metadata": {
  "kernelspec": {
   "display_name": "Python 3",
   "language": "python",
   "name": "python3"
  },
  "language_info": {
   "codemirror_mode": {
    "name": "ipython",
    "version": 3
   },
   "file_extension": ".py",
   "mimetype": "text/x-python",
   "name": "python",
   "nbconvert_exporter": "python",
   "pygments_lexer": "ipython3",
   "version": "3.6.5"
  }
 },
 "nbformat": 4,
 "nbformat_minor": 2
}
