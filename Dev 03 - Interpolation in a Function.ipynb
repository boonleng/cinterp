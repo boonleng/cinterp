{
 "cells": [
  {
   "cell_type": "markdown",
   "metadata": {},
   "source": [
    "# Using the `cinterp` Module"
   ]
  },
  {
   "cell_type": "code",
   "execution_count": null,
   "metadata": {},
   "outputs": [],
   "source": [
    "import os\n",
    "import sys\n",
    "import glob\n",
    "import numpy as np\n",
    "import matplotlib\n",
    "import matplotlib.pyplot as plt\n",
    "\n",
    "# Local modules\n",
    "import nexrad\n",
    "import cinterp\n",
    "\n",
    "# iRadar\n",
    "sys.path.append(os.path.expanduser('~/Developer/iradar/python'))\n",
    "import iradar"
   ]
  },
  {
   "cell_type": "markdown",
   "metadata": {},
   "source": [
    "# Read a NEXRAD Sweep"
   ]
  },
  {
   "cell_type": "code",
   "execution_count": null,
   "metadata": {},
   "outputs": [],
   "source": [
    "files = glob.glob(os.path.expanduser('~/Downloads/88d/KDDC/*V06'))\n",
    "filename = files[9]\n",
    "\n",
    "azimuth_count = 360\n",
    "range_count = 800\n",
    "\n",
    "sweeps = nexrad.read(filename)\n",
    "\n",
    "z = sweeps['z'][0, :, :range_count]\n",
    "\n",
    "az = sweeps['aa'][0, :]\n",
    "rr = 1.0e-3 * sweeps['rr'][:range_count]\n",
    "\n",
    "roll_amount = int(az[0] * 180.0 / np.pi)\n",
    "z_rolled = np.roll(z, roll_amount, axis=0)"
   ]
  },
  {
   "cell_type": "code",
   "execution_count": null,
   "metadata": {},
   "outputs": [],
   "source": [
    "# sweeps"
   ]
  },
  {
   "cell_type": "code",
   "execution_count": null,
   "metadata": {},
   "outputs": [],
   "source": [
    "zmap = iradar.colormap.zmap()\n",
    "cmap = matplotlib.colors.LinearSegmentedColormap.from_list('colors', zmap[:, :3], N=len(zmap))"
   ]
  },
  {
   "cell_type": "markdown",
   "metadata": {},
   "source": [
    "# Cell Indices"
   ]
  },
  {
   "cell_type": "code",
   "execution_count": null,
   "metadata": {},
   "outputs": [],
   "source": [
    "cells = cinterp.data.kddc_cells2"
   ]
  },
  {
   "cell_type": "markdown",
   "metadata": {},
   "source": [
    "# Calling `cinterp` of the CInterp Module"
   ]
  },
  {
   "cell_type": "code",
   "execution_count": null,
   "metadata": {},
   "outputs": [],
   "source": [
    "# The smaller region that contains all the indices of the cells\n",
    "ia_sub, ir_sub = cinterp.cluster_ar_indices(cells)\n",
    "\n",
    "print('ia_sub = {}   ir_sub = {}'.format(ia_sub, ir_sub))\n",
    "\n",
    "# One would expect +3 at the end to be sufficient but pcolor has this weird behavior\n",
    "ia_sub = np.arange(ia_sub[0] - 2, ia_sub[1] + 4)\n",
    "ir_sub = np.arange(ir_sub[0] - 2, ir_sub[1] + 4)"
   ]
  },
  {
   "cell_type": "code",
   "execution_count": null,
   "metadata": {},
   "outputs": [],
   "source": [
    "z_interp = cinterp.cinterp(z, az, rr, cells)"
   ]
  },
  {
   "cell_type": "code",
   "execution_count": null,
   "metadata": {},
   "outputs": [],
   "source": [
    "plt.figure(dpi=200)\n",
    "plt.pcolormesh(ir_sub, ia_sub, z_rolled[ia_sub, :][:, ir_sub], cmap=cmap)\n",
    "plt.plot(cells[:, 1] + 0.5, cells[:, 0] + 0.5, 'xw', markersize=4)\n",
    "plt.clim((-32, 96))\n",
    "plt.colorbar()\n",
    "plt.grid()\n",
    "\n",
    "plt.figure(dpi=200)\n",
    "plt.pcolormesh(rr[ir_sub], ia_sub, z_interp[ia_sub, :][:, ir_sub], cmap=cmap)\n",
    "plt.clim((-32, 96))\n",
    "plt.colorbar()\n",
    "plt.grid()"
   ]
  },
  {
   "cell_type": "code",
   "execution_count": null,
   "metadata": {},
   "outputs": [],
   "source": []
  }
 ],
 "metadata": {
  "kernelspec": {
   "display_name": "Python 3",
   "language": "python",
   "name": "python3"
  },
  "language_info": {
   "codemirror_mode": {
    "name": "ipython",
    "version": 3
   },
   "file_extension": ".py",
   "mimetype": "text/x-python",
   "name": "python",
   "nbconvert_exporter": "python",
   "pygments_lexer": "ipython3",
   "version": "3.7.4"
  }
 },
 "nbformat": 4,
 "nbformat_minor": 2
}
